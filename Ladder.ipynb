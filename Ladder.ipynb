{
 "cells": [
  {
   "cell_type": "markdown",
   "metadata": {},
   "source": [
    "Task description\n",
    "You have to climb up a ladder. The ladder has exactly N rungs, numbered from 1 to N. With each step, you can ascend by one or two rungs. More precisely:\n",
    "\n",
    "with your first step you can stand on rung 1 or 2,\n",
    "if you are on rung K, you can move to rungs K + 1 or K + 2,\n",
    "finally you have to stand on rung N.\n",
    "Your task is to count the number of different ways of climbing to the top of the ladder.\n",
    "\n",
    "For example, given N = 4, you have five different ways of climbing, ascending by:\n",
    "\n",
    "1, 1, 1 and 1 rung,\n",
    "1, 1 and 2 rungs,\n",
    "1, 2 and 1 rung,\n",
    "2, 1 and 1 rungs, and\n",
    "2 and 2 rungs.\n",
    "Given N = 5, you have eight different ways of climbing, ascending by:\n",
    "\n",
    "1, 1, 1, 1 and 1 rung,\n",
    "1, 1, 1 and 2 rungs,\n",
    "1, 1, 2 and 1 rung,\n",
    "1, 2, 1 and 1 rung,\n",
    "1, 2 and 2 rungs,\n",
    "2, 1, 1 and 1 rungs,\n",
    "2, 1 and 2 rungs, and\n",
    "2, 2 and 1 rung.\n",
    "The number of different ways can be very large, so it is sufficient to return the result modulo 2P, for a given integer P.\n",
    "\n",
    "Write a function:\n",
    "\n",
    "def solution(A, B)\n",
    "\n",
    "that, given two non-empty arrays A and B of L integers, returns an array consisting of L integers specifying the consecutive answers; position I should contain the number of different ways of climbing the ladder with A[I] rungs modulo 2B[I].\n",
    "\n",
    "For example, given L = 5 and:\n",
    "\n",
    "    A[0] = 4   B[0] = 3\n",
    "    A[1] = 4   B[1] = 2\n",
    "    A[2] = 5   B[2] = 4\n",
    "    A[3] = 5   B[3] = 3\n",
    "    A[4] = 1   B[4] = 1\n",
    "the function should return the sequence [5, 1, 8, 0, 1], as explained above.\n",
    "\n",
    "Write an efficient algorithm for the following assumptions:\n",
    "\n",
    "L is an integer within the range [1..50,000];\n",
    "each element of array A is an integer within the range [1..L];\n",
    "each element of array B is an integer within the range [1..30]."
   ]
  },
  {
   "cell_type": "markdown",
   "metadata": {},
   "source": [
    "# This is O(L), believe it or not!"
   ]
  },
  {
   "cell_type": "code",
   "execution_count": 1,
   "metadata": {},
   "outputs": [],
   "source": [
    "# you can write to stdout for debugging purposes, e.g.\n",
    "# print(\"this is a debug message\")\n",
    "\n",
    "def solution(A, B):\n",
    "    # Implement your solution here\n",
    "\n",
    "\n",
    "    #the idea is to explore all paths and keep track of where we are in each\n",
    "    L = len(A)\n",
    "    max_rungs = max(A)\n",
    "    ways_to_get_to_rung = [0]*(max_rungs+1)\n",
    "     # Base cases\n",
    "    if max_rungs >= 1:\n",
    "        ways_to_get_to_rung[1] = 1\n",
    "    if max_rungs >= 2:\n",
    "        ways_to_get_to_rung[2] = 2  # 1+1 or 2\n",
    "    for rung in range(3,max_rungs+1):\n",
    "        ways_to_get_to_rung[rung] = (ways_to_get_to_rung[rung-1] + ways_to_get_to_rung[rung-2])%(2**31)\n",
    "\n",
    "\n",
    "\n",
    "    # cycle through A, giving the # ways to get to rung A[i]\n",
    "    soln = []\n",
    "    for i in range(L):\n",
    "        soln.append((ways_to_get_to_rung[A[i]])%(2**B[i]))\n",
    "    \n",
    "    return soln"
   ]
  },
  {
   "cell_type": "code",
   "execution_count": 2,
   "metadata": {},
   "outputs": [
    {
     "data": {
      "text/plain": [
       "[5, 1, 8, 0, 1]"
      ]
     },
     "execution_count": 2,
     "metadata": {},
     "output_type": "execute_result"
    }
   ],
   "source": [
    "case  = ([4, 4, 5, 5, 1], [3, 2, 4, 3, 1])\n",
    "solution(*case)"
   ]
  },
  {
   "cell_type": "code",
   "execution_count": null,
   "metadata": {},
   "outputs": [],
   "source": []
  }
 ],
 "metadata": {
  "kernelspec": {
   "display_name": "base",
   "language": "python",
   "name": "python3"
  },
  "language_info": {
   "codemirror_mode": {
    "name": "ipython",
    "version": 3
   },
   "file_extension": ".py",
   "mimetype": "text/x-python",
   "name": "python",
   "nbconvert_exporter": "python",
   "pygments_lexer": "ipython3",
   "version": "3.11.5"
  }
 },
 "nbformat": 4,
 "nbformat_minor": 2
}
