{
 "cells": [
  {
   "cell_type": "markdown",
   "metadata": {},
   "source": [
    "Task description\n",
    "Two positive integers N and M are given. Integer N represents the number of chocolates arranged in a circle, numbered from 0 to N − 1.\n",
    "\n",
    "You start to eat the chocolates. After eating a chocolate you leave only a wrapper.\n",
    "\n",
    "You begin with eating chocolate number 0. Then you omit the next M − 1 chocolates or wrappers on the circle, and eat the following one.\n",
    "\n",
    "More precisely, if you ate chocolate number X, then you will next eat the chocolate with number (X + M) modulo N (remainder of division).\n",
    "\n",
    "You stop eating when you encounter an empty wrapper.\n",
    "\n",
    "For example, given integers N = 10 and M = 4. You will eat the following chocolates: 0, 4, 8, 2, 6.\n",
    "\n",
    "The goal is to count the number of chocolates that you will eat, following the above rules.\n",
    "\n",
    "Write a function:\n",
    "\n",
    "def solution(N, M)\n",
    "\n",
    "that, given two positive integers N and M, returns the number of chocolates that you will eat.\n",
    "\n",
    "For example, given integers N = 10 and M = 4. the function should return 5, as explained above.\n",
    "\n",
    "Write an efficient algorithm for the following assumptions:\n",
    "\n",
    "N and M are integers within the range [1..1,000,000,000]."
   ]
  },
  {
   "cell_type": "code",
   "execution_count": 2,
   "metadata": {},
   "outputs": [],
   "source": [
    "# MY FIRST SOLUTION: Correct but inefficient\n",
    "\n",
    "def solution(N, M):\n",
    "    # Implement your solution here\n",
    "    current_choc = 0\n",
    "    chocs_array = N*[False]\n",
    "    counter = 0\n",
    "    while chocs_array[current_choc] == False:\n",
    "        chocs_array[current_choc] = True\n",
    "        counter += 1\n",
    "        current_choc = (current_choc + M)%N\n",
    "    return counter"
   ]
  },
  {
   "cell_type": "code",
   "execution_count": 3,
   "metadata": {},
   "outputs": [
    {
     "data": {
      "text/plain": [
       "5"
      ]
     },
     "execution_count": 3,
     "metadata": {},
     "output_type": "execute_result"
    }
   ],
   "source": [
    "N , M = 10, 4\n",
    "solution(N,M)"
   ]
  },
  {
   "cell_type": "code",
   "execution_count": 5,
   "metadata": {},
   "outputs": [],
   "source": [
    "#revised solution\n",
    "def solution(N, M):\n",
    "    def gcd(a, b):\n",
    "        while b != 0:\n",
    "            a, b = b, a % b\n",
    "        return a\n",
    "\n",
    "    gcd_m_n = gcd(M, N)\n",
    "    return N // gcd_m_n  # Number of unique positions you'll visit"
   ]
  },
  {
   "cell_type": "code",
   "execution_count": null,
   "metadata": {},
   "outputs": [],
   "source": []
  }
 ],
 "metadata": {
  "kernelspec": {
   "display_name": "base",
   "language": "python",
   "name": "python3"
  },
  "language_info": {
   "codemirror_mode": {
    "name": "ipython",
    "version": 3
   },
   "file_extension": ".py",
   "mimetype": "text/x-python",
   "name": "python",
   "nbconvert_exporter": "python",
   "pygments_lexer": "ipython3",
   "version": "3.11.5"
  }
 },
 "nbformat": 4,
 "nbformat_minor": 2
}
