{
 "cells": [
  {
   "cell_type": "markdown",
   "metadata": {},
   "source": [
    "Task description\n",
    "Write a function:\n",
    "\n",
    "def solution(S)\n",
    "\n",
    "that, given a string S, returns the index (counting from 0) of a character such that the part of the string to the left of that character is a reversal of the part of the string to its right. The function should return −1 if no such index exists.\n",
    "\n",
    "Note: reversing an empty string (i.e. a string whose length is zero) gives an empty string.\n",
    "\n",
    "For example, given a string:\n",
    "\n",
    "\"racecar\"\n",
    "\n",
    "the function should return 3, because the substring to the left of the character \"e\" at index 3 is \"rac\", and the one to the right is \"car\".\n",
    "\n",
    "Given a string:\n",
    "\n",
    "\"x\"\n",
    "\n",
    "the function should return 0, because both substrings are empty.\n",
    "\n",
    "Write an efficient algorithm for the following assumptions:\n",
    "\n",
    "the length of string S is within the range [0..2,000,000]."
   ]
  },
  {
   "cell_type": "code",
   "execution_count": null,
   "metadata": {},
   "outputs": [],
   "source": [
    "# you can write to stdout for debugging purposes, e.g.\n",
    "# print(\"this is a debug message\")\n",
    "\n",
    "def solution(S):\n",
    "    # Implement your solution here\n",
    "    n = len(S)\n",
    "    n2 = n//2\n",
    "    if n%2 ==0: return -1\n",
    "    if n ==1: return 0\n",
    "    \n",
    "    if n2>0:\n",
    "        return n2 if S[:n2] == S[-1:n2:-1] else -1"
   ]
  },
  {
   "cell_type": "markdown",
   "metadata": {},
   "source": [
    "$O(N)$ Passed"
   ]
  },
  {
   "cell_type": "markdown",
   "metadata": {},
   "source": []
  }
 ],
 "metadata": {
  "language_info": {
   "name": "python"
  }
 },
 "nbformat": 4,
 "nbformat_minor": 2
}
