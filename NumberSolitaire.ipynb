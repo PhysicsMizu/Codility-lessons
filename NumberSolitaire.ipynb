{
 "cells": [
  {
   "cell_type": "markdown",
   "metadata": {},
   "source": [
    "Task description\n",
    "A game for one player is played on a board consisting of N consecutive squares, numbered from 0 to N − 1. There is a number written on each square. A non-empty array A of N integers contains the numbers written on the squares. Moreover, some squares can be marked during the game.\n",
    "\n",
    "At the beginning of the game, there is a pebble on square number 0 and this is the only square on the board which is marked. The goal of the game is to move the pebble to square number N − 1.\n",
    "\n",
    "During each turn we throw a six-sided die, with numbers from 1 to 6 on its faces, and consider the number K, which shows on the upper face after the die comes to rest. Then we move the pebble standing on square number I to square number I + K, providing that square number I + K exists. If square number I + K does not exist, we throw the die again until we obtain a valid move. Finally, we mark square number I + K.\n",
    "\n",
    "After the game finishes (when the pebble is standing on square number N − 1), we calculate the result. The result of the game is the sum of the numbers written on all marked squares.\n",
    "\n",
    "For example, given the following array:\n",
    "\n",
    "    A[0] = 1\n",
    "    A[1] = -2\n",
    "    A[2] = 0\n",
    "    A[3] = 9\n",
    "    A[4] = -1\n",
    "    A[5] = -2\n",
    "one possible game could be as follows:\n",
    "\n",
    "the pebble is on square number 0, which is marked;\n",
    "we throw 3; the pebble moves from square number 0 to square number 3; we mark square number 3;\n",
    "we throw 5; the pebble does not move, since there is no square number 8 on the board;\n",
    "we throw 2; the pebble moves to square number 5; we mark this square and the game ends.\n",
    "The marked squares are 0, 3 and 5, so the result of the game is 1 + 9 + (−2) = 8. This is the maximal possible result that can be achieved on this board.\n",
    "\n",
    "Write a function:\n",
    "\n",
    "def solution(A)\n",
    "\n",
    "that, given a non-empty array A of N integers, returns the maximal result that can be achieved on the board represented by array A.\n",
    "\n",
    "For example, given the array\n",
    "\n",
    "    A[0] = 1\n",
    "    A[1] = -2\n",
    "    A[2] = 0\n",
    "    A[3] = 9\n",
    "    A[4] = -1\n",
    "    A[5] = -2\n",
    "the function should return 8, as explained above.\n",
    "\n",
    "Write an efficient algorithm for the following assumptions:\n",
    "\n",
    "N is an integer within the range [2..100,000];\n",
    "each element of array A is an integer within the range [−10,000..10,000]."
   ]
  },
  {
   "cell_type": "markdown",
   "metadata": {},
   "source": [
    "# Dynamic programming is easy - just draw before you cry"
   ]
  },
  {
   "cell_type": "code",
   "execution_count": null,
   "metadata": {},
   "outputs": [],
   "source": [
    "# you can write to stdout for debugging purposes, e.g.\n",
    "# print(\"this is a debug message\")\n",
    "\n",
    "def solution(A):\n",
    "    # Implement your solution here\n",
    "\n",
    "    # dp[i] = the maximum sum of squares traveled through when the pebble reaches i\n",
    "    N = len(A)\n",
    "    dp = [-float('inf')]*N\n",
    "    #initialize at the start of the game\n",
    "    dp[0] = A[0]\n",
    "\n",
    "    for i in range(1,N):\n",
    "        #check the previous 6 squares to find the previous optimal sum \n",
    "        max_previous = max(dp[max(0, i-6):i])\n",
    "        dp[i] = A[i] + max_previous\n",
    "\n",
    "    return dp[-1]\n"
   ]
  }
 ],
 "metadata": {
  "language_info": {
   "name": "python"
  }
 },
 "nbformat": 4,
 "nbformat_minor": 2
}
