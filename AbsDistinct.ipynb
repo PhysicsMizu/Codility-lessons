{
 "cells": [
  {
   "cell_type": "markdown",
   "metadata": {},
   "source": [
    "Task description\n",
    "A non-empty array A consisting of N numbers is given. The array is sorted in non-decreasing order. The absolute distinct count of this array is the number of distinct absolute values among the elements of the array.\n",
    "\n",
    "For example, consider array A such that:\n",
    "\n",
    "  A[0] = -5\n",
    "  A[1] = -3\n",
    "  A[2] = -1\n",
    "  A[3] =  0\n",
    "  A[4] =  3\n",
    "  A[5] =  6\n",
    "The absolute distinct count of this array is 5, because there are 5 distinct absolute values among the elements of this array, namely 0, 1, 3, 5 and 6.\n",
    "\n",
    "Write a function:\n",
    "\n",
    "def solution(A)\n",
    "\n",
    "that, given a non-empty array A consisting of N numbers, returns absolute distinct count of array A.\n",
    "\n",
    "For example, given array A such that:\n",
    "\n",
    "  A[0] = -5\n",
    "  A[1] = -3\n",
    "  A[2] = -1\n",
    "  A[3] =  0\n",
    "  A[4] =  3\n",
    "  A[5] =  6\n",
    "the function should return 5, as explained above.\n",
    "\n",
    "Write an efficient algorithm for the following assumptions:\n",
    "\n",
    "N is an integer within the range [1..100,000];\n",
    "each element of array A is an integer within the range [−2,147,483,648..2,147,483,647];\n",
    "array A is sorted in non-decreasing order."
   ]
  },
  {
   "cell_type": "code",
   "execution_count": 1,
   "metadata": {},
   "outputs": [],
   "source": [
    "# I woke ip in a savage mood today\n",
    "def solution(A):\n",
    "    # Implement your solution here\n",
    "    return len(set([abs(element) for element in A]))"
   ]
  },
  {
   "cell_type": "code",
   "execution_count": 3,
   "metadata": {},
   "outputs": [
    {
     "data": {
      "text/plain": [
       "5"
      ]
     },
     "execution_count": 3,
     "metadata": {},
     "output_type": "execute_result"
    }
   ],
   "source": [
    "A = [-5,-3,-1,0,1,3, 6]\n",
    "solution(A)"
   ]
  },
  {
   "cell_type": "code",
   "execution_count": null,
   "metadata": {},
   "outputs": [],
   "source": []
  }
 ],
 "metadata": {
  "kernelspec": {
   "display_name": "base",
   "language": "python",
   "name": "python3"
  },
  "language_info": {
   "codemirror_mode": {
    "name": "ipython",
    "version": 3
   },
   "file_extension": ".py",
   "mimetype": "text/x-python",
   "name": "python",
   "nbconvert_exporter": "python",
   "pygments_lexer": "ipython3",
   "version": "3.11.5"
  }
 },
 "nbformat": 4,
 "nbformat_minor": 2
}
