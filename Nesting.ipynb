{
 "cells": [
  {
   "cell_type": "markdown",
   "metadata": {},
   "source": [
    "Task description\n",
    "A string S consisting of N characters is called properly nested if:\n",
    "\n",
    "S is empty;\n",
    "S has the form \"(U)\" where U is a properly nested string;\n",
    "S has the form \"VW\" where V and W are properly nested strings.\n",
    "For example, string \"(()(())())\" is properly nested but string \"())\" isn't.\n",
    "\n",
    "Write a function:\n",
    "\n",
    "def solution(S)\n",
    "\n",
    "that, given a string S consisting of N characters, returns 1 if string S is properly nested and 0 otherwise.\n",
    "\n",
    "For example, given S = \"(()(())())\", the function should return 1 and given S = \"())\", the function should return 0, as explained above.\n",
    "\n",
    "Write an efficient algorithm for the following assumptions:\n",
    "\n",
    "N is an integer within the range [0..1,000,000];\n",
    "string S is made only of the characters '(' and/or ')'.\n",
    "Copyright 2009–2024 by Codility Limited. All Rights Reserved. Unauthorized copying, publication or disclosure prohibited."
   ]
  },
  {
   "cell_type": "code",
   "execution_count": null,
   "metadata": {},
   "outputs": [],
   "source": [
    "# you can write to stdout for debugging purposes, e.g.\n",
    "# print(\"this is a debug message\")\n",
    "\n",
    "\n",
    "def solution(S):\n",
    "    # Stack to keep track of opening brackets\n",
    "    stack = []\n",
    "    \n",
    "    # Dictionary to map closing brackets to their corresponding opening brackets\n",
    "    matching_bracket = {')': '(', ']': '[', '}': '{'}\n",
    "    \n",
    "    # Iterate through the string\n",
    "    for char in S:\n",
    "        if char == \"(\":\n",
    "            # If it's an opening bracket, push it to the stack\n",
    "            stack.append(char)\n",
    "        elif char == \")\":\n",
    "            # If it's a closing bracket, check for a match\n",
    "            if not stack or stack[-1] != matching_bracket[char]:\n",
    "                return 0  # Mismatch or empty stack when we expected an opening bracket\n",
    "            stack.pop()  # Valid match, pop the opening bracket\n",
    "    \n",
    "    # If the stack is empty at the end, it's properly nested\n",
    "    return 1 if not stack else 0"
   ]
  }
 ],
 "metadata": {
  "language_info": {
   "name": "python"
  }
 },
 "nbformat": 4,
 "nbformat_minor": 2
}
