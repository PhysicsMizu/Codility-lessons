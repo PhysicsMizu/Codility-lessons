{
 "cells": [
  {
   "cell_type": "markdown",
   "metadata": {},
   "source": [
    "Task description\n",
    "A prime is a positive integer X that has exactly two distinct divisors: 1 and X. The first few prime integers are 2, 3, 5, 7, 11 and 13.\n",
    "\n",
    "A semiprime is a natural number that is the product of two (not necessarily distinct) prime numbers. The first few semiprimes are 4, 6, 9, 10, 14, 15, 21, 22, 25, 26.\n",
    "\n",
    "You are given two non-empty arrays P and Q, each consisting of M integers. These arrays represent queries about the number of semiprimes within specified ranges.\n",
    "\n",
    "Query K requires you to find the number of semiprimes within the range (P[K], Q[K]), where 1 ≤ P[K] ≤ Q[K] ≤ N.\n",
    "\n",
    "For example, consider an integer N = 26 and arrays P, Q such that:\n",
    "\n",
    "    P[0] = 1    Q[0] = 26\n",
    "    P[1] = 4    Q[1] = 10\n",
    "    P[2] = 16   Q[2] = 20\n",
    "The number of semiprimes within each of these ranges is as follows:\n",
    "\n",
    "(1, 26) is 10,\n",
    "(4, 10) is 4,\n",
    "(16, 20) is 0.\n",
    "Write a function:\n",
    "\n",
    "def solution(N, P, Q)\n",
    "\n",
    "that, given an integer N and two non-empty arrays P and Q consisting of M integers, returns an array consisting of M elements specifying the consecutive answers to all the queries.\n",
    "\n",
    "For example, given an integer N = 26 and arrays P, Q such that:\n",
    "\n",
    "    P[0] = 1    Q[0] = 26\n",
    "    P[1] = 4    Q[1] = 10\n",
    "    P[2] = 16   Q[2] = 20\n",
    "the function should return the values [10, 4, 0], as explained above.\n",
    "\n",
    "Write an efficient algorithm for the following assumptions:\n",
    "\n",
    "N is an integer within the range [1..50,000];\n",
    "M is an integer within the range [1..30,000];\n",
    "each element of arrays P and Q is an integer within the range [1..N];\n",
    "P[i] ≤ Q[i].\n"
   ]
  },
  {
   "cell_type": "code",
   "execution_count": null,
   "metadata": {},
   "outputs": [],
   "source": [
    "# def solution(N, P, Q):\n",
    "#     # Implement your solution here\n",
    "#     pass\n",
    "\n",
    "def solution(N, P, Q):\n",
    "    # Step 1: Sieve of Eratosthenes to find prime numbers up to N\n",
    "    sieve = [True] * (N + 1)\n",
    "    sieve[0] = sieve[1] = False\n",
    "    for i in range(2, int(N**0.5) + 1):\n",
    "        if sieve[i]:\n",
    "            for j in range(i * i, N + 1, i):\n",
    "                sieve[j] = False\n",
    "\n",
    "    # Step 2: Generate semiprimes\n",
    "    semiprimes = [0] * (N + 1)\n",
    "    primes = [i for i in range(2, N + 1) if sieve[i]]\n",
    "    for i in range(len(primes)):\n",
    "        for j in range(i, len(primes)):\n",
    "            semiprime = primes[i] * primes[j]\n",
    "            if semiprime > N:\n",
    "                break\n",
    "            semiprimes[semiprime] = 1\n",
    "\n",
    "    # Step 3: Create prefix sum of semiprimes\n",
    "    prefix_semiprime_count = [0] * (N + 1)\n",
    "    for i in range(1, N + 1):\n",
    "        prefix_semiprime_count[i] = prefix_semiprime_count[i - 1] + semiprimes[i]\n",
    "\n",
    "    # Step 4: Answer each query using the prefix sum array\n",
    "    result = []\n",
    "    for k in range(len(P)):\n",
    "        result.append(prefix_semiprime_count[Q[k]] - prefix_semiprime_count[P[k] - 1])\n",
    "\n",
    "    return result"
   ]
  },
  {
   "cell_type": "code",
   "execution_count": null,
   "metadata": {},
   "outputs": [],
   "source": [
    "N = 26\n",
    "P = [1, 4, 16]\n",
    "Q = [26, 10, 20]\n"
   ]
  }
 ],
 "metadata": {
  "language_info": {
   "name": "python"
  }
 },
 "nbformat": 4,
 "nbformat_minor": 2
}
