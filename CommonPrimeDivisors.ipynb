{
 "cells": [
  {
   "cell_type": "markdown",
   "metadata": {},
   "source": [
    "Task description\n",
    "A prime is a positive integer X that has exactly two distinct divisors: 1 and X. The first few prime integers are 2, 3, 5, 7, 11 and 13.\n",
    "\n",
    "A prime D is called a prime divisor of a positive integer P if there exists a positive integer K such that D * K = P. For example, 2 and 5 are prime divisors of 20.\n",
    "\n",
    "You are given two positive integers N and M. The goal is to check whether the sets of prime divisors of integers N and M are exactly the same.\n",
    "\n",
    "For example, given:\n",
    "\n",
    "N = 15 and M = 75, the prime divisors are the same: {3, 5};\n",
    "N = 10 and M = 30, the prime divisors aren't the same: {2, 5} is not equal to {2, 3, 5};\n",
    "N = 9 and M = 5, the prime divisors aren't the same: {3} is not equal to {5}.\n",
    "Write a function:\n",
    "\n",
    "def solution(A, B)\n",
    "\n",
    "that, given two non-empty arrays A and B of Z integers, returns the number of positions K for which the prime divisors of A[K] and B[K] are exactly the same.\n",
    "\n",
    "For example, given:\n",
    "\n",
    "    A[0] = 15   B[0] = 75\n",
    "    A[1] = 10   B[1] = 30\n",
    "    A[2] = 3    B[2] = 5\n",
    "the function should return 1, because only one pair (15, 75) has the same set of prime divisors.\n",
    "\n",
    "Write an efficient algorithm for the following assumptions:\n",
    "\n",
    "Z is an integer within the range [1..6,000];\n",
    "each element of arrays A and B is an integer within the range [1..2,147,483,647]."
   ]
  },
  {
   "cell_type": "code",
   "execution_count": null,
   "metadata": {},
   "outputs": [],
   "source": [
    "def gcd(a, b):\n",
    "    while b != 0:\n",
    "        a, b = b, a % b\n",
    "    return a\n",
    "\n",
    "def has_same_prime_divisors(a, b):\n",
    "    # returns True if a can be reduced to 1 by dividing by b repeatedly\n",
    "    gcd_a_b = gcd(a,b)\n",
    "    while gcd_a_b != 1:\n",
    "        a//= gcd_a_b\n",
    "        gcd_a_b = gcd(a,b)\n",
    "    return a ==1\n",
    "\n",
    "def solution(A, B):\n",
    "    # Implement your solution here\n",
    "    count = 0\n",
    "    for i in range(len(A)):\n",
    "        gcd_ab = gcd(A[i], B[i])\n",
    "        # check that a and b have the same prime divisors\n",
    "        if has_same_prime_divisors(A[i], gcd_ab) and has_same_prime_divisors(B[i],gcd_ab): count +=1\n",
    "    \n",
    "    return count"
   ]
  }
 ],
 "metadata": {
  "language_info": {
   "name": "python"
  }
 },
 "nbformat": 4,
 "nbformat_minor": 2
}
