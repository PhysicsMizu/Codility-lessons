{
 "cells": [
  {
   "cell_type": "markdown",
   "metadata": {},
   "source": [
    "Task description\n",
    "You are given integers K, M and a non-empty array A consisting of N integers. Every element of the array is not greater than M.\n",
    "\n",
    "You should divide this array into K blocks of consecutive elements. The size of the block is any integer between 0 and N. Every element of the array should belong to some block.\n",
    "\n",
    "The sum of the block from X to Y equals A[X] + A[X + 1] + ... + A[Y]. The sum of empty block equals 0.\n",
    "\n",
    "The large sum is the maximal sum of any block.\n",
    "\n",
    "For example, you are given integers K = 3, M = 5 and array A such that:\n",
    "\n",
    "  A[0] = 2\n",
    "  A[1] = 1\n",
    "  A[2] = 5\n",
    "  A[3] = 1\n",
    "  A[4] = 2\n",
    "  A[5] = 2\n",
    "  A[6] = 2\n",
    "The array can be divided, for example, into the following blocks:\n",
    "\n",
    "[2, 1, 5, 1, 2, 2, 2], [], [] with a large sum of 15;\n",
    "[2], [1, 5, 1, 2], [2, 2] with a large sum of 9;\n",
    "[2, 1, 5], [], [1, 2, 2, 2] with a large sum of 8;\n",
    "[2, 1], [5, 1], [2, 2, 2] with a large sum of 6.\n",
    "The goal is to minimize the large sum. In the above example, 6 is the minimal large sum.\n",
    "\n",
    "Write a function:\n",
    "\n",
    "def solution(K, M, A)\n",
    "\n",
    "that, given integers K, M and a non-empty array A consisting of N integers, returns the minimal large sum.\n",
    "\n",
    "For example, given K = 3, M = 5 and array A such that:\n",
    "\n",
    "  A[0] = 2\n",
    "  A[1] = 1\n",
    "  A[2] = 5\n",
    "  A[3] = 1\n",
    "  A[4] = 2\n",
    "  A[5] = 2\n",
    "  A[6] = 2\n",
    "the function should return 6, as explained above.\n",
    "\n",
    "Write an efficient algorithm for the following assumptions:\n",
    "\n",
    "N and K are integers within the range [1..100,000];\n",
    "M is an integer within the range [0..10,000];\n",
    "each element of array A is an integer within the range [0..M]."
   ]
  },
  {
   "cell_type": "code",
   "execution_count": 1,
   "metadata": {},
   "outputs": [],
   "source": [
    "def can_divide(A, K, max_sum):\n",
    "    current_sum = 0\n",
    "    block_count = 1  # Start with one block\n",
    "\n",
    "    for value in A:\n",
    "        if current_sum + value > max_sum:  # Need to start a new block\n",
    "            block_count += 1\n",
    "            current_sum = value\n",
    "            if block_count > K:  # More blocks than allowed\n",
    "                return False\n",
    "        else:\n",
    "            current_sum += value\n",
    "    return True\n",
    "\n",
    "\n",
    "def solution(K, M, A):\n",
    "    # Implement your solution here\n",
    "    lowerbound = max(A)\n",
    "    upperbound = sum(A)\n",
    "\n",
    "    while lowerbound < upperbound:\n",
    "        \n",
    "        mid = (lowerbound + upperbound)//2\n",
    "        if can_divide(A,K, mid): upperbound = mid\n",
    "        else: lowerbound = mid +1\n",
    "    return lowerbound"
   ]
  },
  {
   "cell_type": "code",
   "execution_count": 2,
   "metadata": {},
   "outputs": [
    {
     "data": {
      "text/plain": [
       "6"
      ]
     },
     "execution_count": 2,
     "metadata": {},
     "output_type": "execute_result"
    }
   ],
   "source": [
    "case = (3, 5, [2, 1, 5, 1, 2, 2, 2])\n",
    "solution(*case)"
   ]
  },
  {
   "cell_type": "code",
   "execution_count": null,
   "metadata": {},
   "outputs": [],
   "source": []
  }
 ],
 "metadata": {
  "kernelspec": {
   "display_name": "base",
   "language": "python",
   "name": "python3"
  },
  "language_info": {
   "codemirror_mode": {
    "name": "ipython",
    "version": 3
   },
   "file_extension": ".py",
   "mimetype": "text/x-python",
   "name": "python",
   "nbconvert_exporter": "python",
   "pygments_lexer": "ipython3",
   "version": "3.11.5"
  }
 },
 "nbformat": 4,
 "nbformat_minor": 2
}
