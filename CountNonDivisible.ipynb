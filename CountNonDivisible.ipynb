{
 "cells": [
  {
   "cell_type": "markdown",
   "metadata": {},
   "source": [
    "You are given an array A consisting of N integers.\n",
    "\n",
    "For each number A[i] such that 0 ≤ i < N, we want to count the number of elements of the array that are not the divisors of A[i]. We say that these elements are non-divisors.\n",
    "\n",
    "For example, consider integer N = 5 and array A such that:\n",
    "\n",
    "    A[0] = 3\n",
    "    A[1] = 1\n",
    "    A[2] = 2\n",
    "    A[3] = 3\n",
    "    A[4] = 6\n",
    "For the following elements:\n",
    "\n",
    "A[0] = 3, the non-divisors are: 2, 6,\n",
    "A[1] = 1, the non-divisors are: 3, 2, 3, 6,\n",
    "A[2] = 2, the non-divisors are: 3, 3, 6,\n",
    "A[3] = 3, the non-divisors are: 2, 6,\n",
    "A[4] = 6, there aren't any non-divisors.\n",
    "Write a function:\n",
    "\n",
    "def solution(A)\n",
    "\n",
    "that, given an array A consisting of N integers, returns a sequence of integers representing the amount of non-divisors.\n",
    "\n",
    "Result array should be returned as an array of integers.\n",
    "\n",
    "For example, given:\n",
    "\n",
    "    A[0] = 3\n",
    "    A[1] = 1\n",
    "    A[2] = 2\n",
    "    A[3] = 3\n",
    "    A[4] = 6\n",
    "the function should return [2, 4, 3, 2, 0], as explained above.\n",
    "\n",
    "Write an efficient algorithm for the following assumptions:\n",
    "\n",
    "N is an integer within the range [1..50,000];\n",
    "each element of array A is an integer within the range [1..2 * N].\n"
   ]
  },
  {
   "cell_type": "markdown",
   "metadata": {},
   "source": [
    "# O(N^2)"
   ]
  },
  {
   "cell_type": "code",
   "execution_count": null,
   "metadata": {},
   "outputs": [],
   "source": [
    "def solution(A):\n",
    "    # Implement your solution here\n",
    "    N = len(A)\n",
    "    non_divisors = [N]*N\n",
    "\n",
    "    for i in range(N):\n",
    "        for j in range(N):\n",
    "            if A[i]%A[j] == 0: non_divisors[i] -=1\n",
    "    return non_divisors"
   ]
  },
  {
   "cell_type": "markdown",
   "metadata": {},
   "source": [
    "# O(NlogN)"
   ]
  },
  {
   "cell_type": "code",
   "execution_count": null,
   "metadata": {},
   "outputs": [],
   "source": [
    "def solution(A):\n",
    "    N = len(A)\n",
    "    max_A = 2 * N  # Maximum possible value in the array\n",
    "    \n",
    "    # Step 1: Frequency array to count occurrences of each number in A\n",
    "    count = [0] * (max_A + 1)\n",
    "    for num in A:\n",
    "        count[num] += 1\n",
    "    \n",
    "    # Step 2: Array to store the number of divisors for each number\n",
    "    divisors = [0] * (max_A + 1)\n",
    "    \n",
    "    # Step 3: Use multiples to count divisors\n",
    "    # For each element num, find all multiples of num and add to divisors[num]\n",
    "    for num in range(1, max_A + 1):\n",
    "        if count[num] > 0:  # Only check for numbers that are in the array\n",
    "            for multiple in range(num, max_A + 1, num):\n",
    "                divisors[multiple] += count[num]\n",
    "    \n",
    "    # Step 4: Calculate the non-divisors for each element in A\n",
    "    result = [0] * N\n",
    "    for idx, num in enumerate(A):\n",
    "        result[idx] = N - divisors[num]\n",
    "    \n",
    "    return result\n"
   ]
  }
 ],
 "metadata": {
  "language_info": {
   "name": "python"
  }
 },
 "nbformat": 4,
 "nbformat_minor": 2
}
