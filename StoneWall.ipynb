{
 "cells": [
  {
   "cell_type": "markdown",
   "metadata": {},
   "source": [
    "Task description\n",
    "You are going to build a stone wall. The wall should be straight and N meters long, and its thickness should be constant; however, it should have different heights in different places. The height of the wall is specified by an array H of N positive integers. H[I] is the height of the wall from I to I+1 meters to the right of its left end. In particular, H[0] is the height of the wall's left end and H[N−1] is the height of the wall's right end.\n",
    "\n",
    "The wall should be built of cuboid stone blocks (that is, all sides of such blocks are rectangular). Your task is to compute the minimum number of blocks needed to build the wall.\n",
    "\n",
    "Write a function:\n",
    "\n",
    "def solution(H)\n",
    "\n",
    "that, given an array H of N positive integers specifying the height of the wall, returns the minimum number of blocks needed to build it.\n",
    "\n",
    "For example, given array H containing N = 9 integers:\n",
    "\n",
    "  H[0] = 8    H[1] = 8    H[2] = 5\n",
    "  H[3] = 7    H[4] = 9    H[5] = 8\n",
    "  H[6] = 7    H[7] = 4    H[8] = 8\n",
    "the function should return 7. The figure shows one possible arrangement of seven blocks.\n",
    "\n",
    "\n",
    "\n",
    "Write an efficient algorithm for the following assumptions:\n",
    "\n",
    "N is an integer within the range [1..100,000];\n",
    "each element of array H is an integer within the range [1..1,000,000,000].\n",
    "Copyright 2009–2024 by Codility Limited. All Rights Reserved. Unauthorized copying, publication or disclosure prohibited."
   ]
  },
  {
   "cell_type": "code",
   "execution_count": null,
   "metadata": {},
   "outputs": [],
   "source": [
    "# you can write to stdout for debugging purposes, e.g.\n",
    "# print(\"this is a debug message\")\n",
    "\n",
    "def solution(H):\n",
    "    # Implement your solution here\n",
    "\n",
    "    stack = []\n",
    "    blocks= 0\n",
    "\n",
    "    for height in H:\n",
    "        while stack and stack[-1] > height:\n",
    "            # Remove heights from the stack that are greater than the current height\n",
    "            stack.pop()\n",
    "                # If the current height is not equal to the last one in the stack, we need a new block\n",
    "        if not stack or stack[-1] != height:\n",
    "            stack.append(height)\n",
    "            blocks += 1\n",
    "\n",
    "    return blocks"
   ]
  }
 ],
 "metadata": {
  "language_info": {
   "name": "python"
  }
 },
 "nbformat": 4,
 "nbformat_minor": 2
}
