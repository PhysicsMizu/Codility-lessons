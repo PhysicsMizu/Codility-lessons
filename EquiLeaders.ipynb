{
 "cells": [
  {
   "cell_type": "markdown",
   "metadata": {},
   "source": [
    "A non-empty array A consisting of N integers is given.\n",
    "\n",
    "The leader of this array is the value that occurs in more than half of the elements of A.\n",
    "\n",
    "An equi leader is an index S such that 0 ≤ S < N − 1 and two sequences A[0], A[1], ..., A[S] and A[S + 1], A[S + 2], ..., A[N − 1] have leaders of the same value.\n",
    "\n",
    "For example, given array A such that:\n",
    "\n",
    "    A[0] = 4\n",
    "    A[1] = 3\n",
    "    A[2] = 4\n",
    "    A[3] = 4\n",
    "    A[4] = 4\n",
    "    A[5] = 2\n",
    "we can find two equi leaders:\n",
    "\n",
    "0, because sequences: (4) and (3, 4, 4, 4, 2) have the same leader, whose value is 4.\n",
    "2, because sequences: (4, 3, 4) and (4, 4, 2) have the same leader, whose value is 4.\n",
    "The goal is to count the number of equi leaders.\n",
    "\n",
    "Write a function:\n",
    "\n",
    "def solution(A)\n",
    "\n",
    "that, given a non-empty array A consisting of N integers, returns the number of equi leaders.\n",
    "\n",
    "For example, given:\n",
    "\n",
    "    A[0] = 4\n",
    "    A[1] = 3\n",
    "    A[2] = 4\n",
    "    A[3] = 4\n",
    "    A[4] = 4\n",
    "    A[5] = 2\n",
    "the function should return 2, as explained above.\n",
    "\n",
    "Write an efficient algorithm for the following assumptions:\n",
    "\n",
    "N is an integer within the range [1..100,000];\n",
    "each element of array A is an integer within the range [−1,000,000,000..1,000,000,000].\n"
   ]
  },
  {
   "cell_type": "code",
   "execution_count": 2,
   "metadata": {},
   "outputs": [],
   "source": [
    "\n",
    "# you can write to stdout for debugging purposes, e.g.\n",
    "# print(\"this is a debug message\")\n",
    "\n",
    "def solution(A):\n",
    "    # Implement your solution here\n",
    "        # Step 1: Find the leader of the array\n",
    "    candidate = None\n",
    "    size = 0\n",
    "\n",
    "    # Boyer-Moore Voting Algorithm to find the candidate\n",
    "    for value in A:\n",
    "        if size == 0:\n",
    "            candidate = value\n",
    "            size += 1\n",
    "        else:\n",
    "            if value == candidate:\n",
    "                size += 1\n",
    "            else:\n",
    "                size -= 1\n",
    "    \n",
    "    # Step 2: Confirm if the candidate is actually the leader\n",
    "    leader_count = A.count(candidate)\n",
    "    N = len(A)\n",
    "\n",
    "    if leader_count <= N // 2:\n",
    "        return 0  # No leader, so no equi leaders\n",
    "\n",
    "    # Step 3: Count equi leaders by iterating through potential split points\n",
    "    equi_leaders = 0\n",
    "    left_leader_count = 0\n",
    "\n",
    "    for S in range(N):\n",
    "        if A[S] == candidate:\n",
    "            left_leader_count += 1\n",
    "        \n",
    "        # Check if leader is the leader in both the left and right segments\n",
    "        if left_leader_count > (S + 1) // 2 and (leader_count - left_leader_count) > (N - (S + 1)) // 2:\n",
    "            equi_leaders += 1\n",
    "    \n",
    "    return equi_leaders"
   ]
  },
  {
   "cell_type": "code",
   "execution_count": 3,
   "metadata": {},
   "outputs": [
    {
     "data": {
      "text/plain": [
       "2"
      ]
     },
     "execution_count": 3,
     "metadata": {},
     "output_type": "execute_result"
    }
   ],
   "source": [
    "A = [4, 3, 4, 4, 4, 2]\n",
    "solution(A)"
   ]
  },
  {
   "cell_type": "code",
   "execution_count": null,
   "metadata": {},
   "outputs": [],
   "source": []
  }
 ],
 "metadata": {
  "kernelspec": {
   "display_name": "base",
   "language": "python",
   "name": "python3"
  },
  "language_info": {
   "codemirror_mode": {
    "name": "ipython",
    "version": 3
   },
   "file_extension": ".py",
   "mimetype": "text/x-python",
   "name": "python",
   "nbconvert_exporter": "python",
   "pygments_lexer": "ipython3",
   "version": "3.11.5"
  }
 },
 "nbformat": 4,
 "nbformat_minor": 2
}
