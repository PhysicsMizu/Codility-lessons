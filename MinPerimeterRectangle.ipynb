{
 "cells": [
  {
   "cell_type": "markdown",
   "metadata": {},
   "source": [
    "Task description\n",
    "An integer N is given, representing the area of some rectangle.\n",
    "\n",
    "The area of a rectangle whose sides are of length A and B is A * B, and the perimeter is 2 * (A + B).\n",
    "\n",
    "The goal is to find the minimal perimeter of any rectangle whose area equals N. The sides of this rectangle should be only integers.\n",
    "\n",
    "For example, given integer N = 30, rectangles of area 30 are:\n",
    "\n",
    "(1, 30), with a perimeter of 62,\n",
    "(2, 15), with a perimeter of 34,\n",
    "(3, 10), with a perimeter of 26,\n",
    "(5, 6), with a perimeter of 22.\n",
    "Write a function:\n",
    "\n",
    "def solution(N)\n",
    "\n",
    "that, given an integer N, returns the minimal perimeter of any rectangle whose area is exactly equal to N.\n",
    "\n",
    "For example, given an integer N = 30, the function should return 22, as explained above.\n",
    "\n",
    "Write an efficient algorithm for the following assumptions:\n",
    "\n",
    "N is an integer within the range [1..1,000,000,000]."
   ]
  },
  {
   "cell_type": "code",
   "execution_count": 1,
   "metadata": {},
   "outputs": [],
   "source": [
    "# you can write to stdout for debugging purposes, e.g.\n",
    "# print(\"this is a debug message\")\n",
    "\n",
    "def solution(N):\n",
    "    # Implement your solution here\n",
    "    from math import sqrt\n",
    "    min_perim = float('inf')\n",
    "    for D in range(1, int(sqrt(N)) +1):\n",
    "        if N%D == 0:\n",
    "            A = N/D\n",
    "            perim = 2*(A+D)\n",
    "            min_perim = min(perim, min_perim)\n",
    "    return int(min_perim)"
   ]
  },
  {
   "cell_type": "code",
   "execution_count": 2,
   "metadata": {},
   "outputs": [
    {
     "data": {
      "text/plain": [
       "22"
      ]
     },
     "execution_count": 2,
     "metadata": {},
     "output_type": "execute_result"
    }
   ],
   "source": [
    "N = 30\n",
    "solution(N)"
   ]
  },
  {
   "cell_type": "code",
   "execution_count": null,
   "metadata": {},
   "outputs": [],
   "source": []
  }
 ],
 "metadata": {
  "kernelspec": {
   "display_name": "base",
   "language": "python",
   "name": "python3"
  },
  "language_info": {
   "codemirror_mode": {
    "name": "ipython",
    "version": 3
   },
   "file_extension": ".py",
   "mimetype": "text/x-python",
   "name": "python",
   "nbconvert_exporter": "python",
   "pygments_lexer": "ipython3",
   "version": "3.11.5"
  }
 },
 "nbformat": 4,
 "nbformat_minor": 2
}
