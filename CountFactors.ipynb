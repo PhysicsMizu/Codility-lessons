{
 "cells": [
  {
   "cell_type": "markdown",
   "metadata": {},
   "source": [
    "Task description\n",
    "A positive integer D is a factor of a positive integer N if there exists an integer M such that N = D * M.\n",
    "\n",
    "For example, 6 is a factor of 24, because M = 4 satisfies the above condition (24 = 6 * 4).\n",
    "\n",
    "Write a function:\n",
    "\n",
    "def solution(N)\n",
    "\n",
    "that, given a positive integer N, returns the number of its factors.\n",
    "\n",
    "For example, given N = 24, the function should return 8, because 24 has 8 factors, namely 1, 2, 3, 4, 6, 8, 12, 24. There are no other factors of 24.\n",
    "\n",
    "Write an efficient algorithm for the following assumptions:\n",
    "\n",
    "N is an integer within the range [1..2,147,483,647].\n"
   ]
  },
  {
   "cell_type": "code",
   "execution_count": 1,
   "metadata": {},
   "outputs": [],
   "source": [
    "# you can write to stdout for debugging purposes, e.g.\n",
    "# print(\"this is a debug message\")\n",
    "\n",
    "# def solution(N):\n",
    "#     # Implement your solution here\n",
    "#     factors = 0\n",
    "#     for D in range(1,N+1):\n",
    "#         if N%D == 0: factors +=1\n",
    "#     return factors\n",
    "\n",
    "\n",
    "\n",
    "def solution(N):\n",
    "    from math import sqrt\n",
    "    factors = 0\n",
    "    # Iterate only up to the square root of N\n",
    "    for D in range(1, int(sqrt(N)) + 1):\n",
    "        if N % D == 0:\n",
    "            # D is a factor, and N // D is also a factor\n",
    "            factors += 1\n",
    "            if D != N // D:  # Avoid counting the square root twice if it's a perfect square\n",
    "                factors += 1\n",
    "    return factors"
   ]
  },
  {
   "cell_type": "code",
   "execution_count": 2,
   "metadata": {},
   "outputs": [
    {
     "data": {
      "text/plain": [
       "9"
      ]
     },
     "execution_count": 2,
     "metadata": {},
     "output_type": "execute_result"
    }
   ],
   "source": [
    "N = 36\n",
    "solution(N)"
   ]
  },
  {
   "cell_type": "code",
   "execution_count": null,
   "metadata": {},
   "outputs": [],
   "source": []
  }
 ],
 "metadata": {
  "kernelspec": {
   "display_name": "base",
   "language": "python",
   "name": "python3"
  },
  "language_info": {
   "codemirror_mode": {
    "name": "ipython",
    "version": 3
   },
   "file_extension": ".py",
   "mimetype": "text/x-python",
   "name": "python",
   "nbconvert_exporter": "python",
   "pygments_lexer": "ipython3",
   "version": "3.11.5"
  }
 },
 "nbformat": 4,
 "nbformat_minor": 2
}
