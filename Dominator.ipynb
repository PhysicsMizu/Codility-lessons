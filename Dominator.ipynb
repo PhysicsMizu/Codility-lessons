{
 "cells": [
  {
   "cell_type": "markdown",
   "metadata": {},
   "source": [
    "An array A consisting of N integers is given. The dominator of array A is the value that occurs in more than half of the elements of A.\n",
    "\n",
    "For example, consider array A such that\n",
    "\n",
    " A[0] = 3    A[1] = 4    A[2] =  3\n",
    " A[3] = 2    A[4] = 3    A[5] = -1\n",
    " A[6] = 3    A[7] = 3\n",
    "The dominator of A is 3 because it occurs in 5 out of 8 elements of A (namely in those with indices 0, 2, 4, 6 and 7) and 5 is more than a half of 8.\n",
    "\n",
    "Write a function\n",
    "\n",
    "def solution(A)\n",
    "\n",
    "that, given an array A consisting of N integers, returns index of any element of array A in which the dominator of A occurs. The function should return −1 if array A does not have a dominator.\n",
    "\n",
    "For example, given array A such that\n",
    "\n",
    " A[0] = 3    A[1] = 4    A[2] =  3\n",
    " A[3] = 2    A[4] = 3    A[5] = -1\n",
    " A[6] = 3    A[7] = 3\n",
    "the function may return 0, 2, 4, 6 or 7, as explained above.\n",
    "\n",
    "Write an efficient algorithm for the following assumptions:\n",
    "\n",
    "N is an integer within the range [0..100,000];\n",
    "each element of array A is an integer within the range [−2,147,483,648..2,147,483,647]."
   ]
  },
  {
   "cell_type": "code",
   "execution_count": 2,
   "metadata": {},
   "outputs": [],
   "source": [
    "# My first attempt: O(n^2)\n",
    "\n",
    "# you can write to stdout for debugging purposes, e.g.\n",
    "# print(\"this is a debug message\")\n",
    "\n",
    "def solution(A):\n",
    "    # Implement your solution here\n",
    "    elements = {}\n",
    "    N = len(A)\n",
    "    for element in A:\n",
    "        if element not in elements.keys():\n",
    "            elements[element] = 1\n",
    "        else: elements[element] += 1\n",
    "    \n",
    "    for key in elements.keys(): \n",
    "        if elements[key] > N//2 :\n",
    "            return A.index(key)\n",
    "    return -1\n",
    "\n"
   ]
  },
  {
   "cell_type": "code",
   "execution_count": 3,
   "metadata": {},
   "outputs": [
    {
     "data": {
      "text/plain": [
       "2"
      ]
     },
     "execution_count": 3,
     "metadata": {},
     "output_type": "execute_result"
    }
   ],
   "source": [
    "A = [3, 3, 4, 2, 4, 4, 2, 4, 4]\n",
    "solution(A)"
   ]
  },
  {
   "cell_type": "markdown",
   "metadata": {},
   "source": [
    "There is an O(N) algorithm for this: the Boyer-Moore Voting Algorithm\n",
    "\n",
    "This allows you to find a potential dominator in O(N) time by maintaining a candidate and counting how often it appears compared to other elements."
   ]
  },
  {
   "cell_type": "markdown",
   "metadata": {},
   "source": [
    "The Boyer-Moore Voting Algorithm is an efficient algorithm for finding a majority element in a sequence of elements. The majority element is defined as the element that appears more than half the time in the array (i.e., more than ⌊N/2⌋ times for an array of size N).\n",
    "\n",
    "How It Works:\n",
    "The algorithm is based on the idea of pairing different elements and \"canceling them out,\" leaving the majority element (if it exists) by the end of the process. The key idea is that the majority element will still remain after such cancellations because it appears more frequently than any other element.\n",
    "\n",
    "The algorithm operates in two main phases:\n",
    "\n",
    "Candidate Selection (First Pass):\n",
    "\n",
    "You iterate through the array, keeping a candidate for the majority element and a count that tracks the balance of this candidate.\n",
    "You increment the count if the current element matches the candidate.\n",
    "You decrement the count if the current element is different.\n",
    "If the count reaches zero, you pick the next element as the new candidate and reset the count to 1.\n",
    "Verification (Second Pass):\n",
    "\n",
    "After the first pass, the candidate may be the majority element, but this needs to be verified. You count the occurrences of the candidate in the array and check if it appears more than half of the time.\n",
    "If it does, the candidate is the majority element (or \"dominator\"). If not, there's no majority element.\n",
    "Algorithm Breakdown:\n",
    "Here’s the step-by-step logic:\n",
    "\n",
    "Initialize:\n",
    "\n",
    "Start with a candidate set to None and a count set to 0.\n",
    "Iterate through the array:\n",
    "\n",
    "For each element in the array:\n",
    "If count is 0, set the current element as the candidate and set count = 1.\n",
    "If the current element is equal to the candidate, increment count.\n",
    "If the current element is different, decrement count.\n",
    "By the end of this pass, if there is a majority element, it will be stored in the candidate variable.\n",
    "\n",
    "Verify the candidate:\n",
    "\n",
    "Since the first pass doesn't guarantee that the candidate is the majority, we need to check if the candidate occurs more than half the time in the array.\n",
    "Count how many times the candidate appears in the array. If it appears more than N // 2 times, it’s the dominator. Otherwise, there is no majority element.\n",
    "Why Does It Work?\n",
    "If there is a majority element, canceling out pairs of different elements won't affect its status. For every other element that cancels it out, there will be more occurrences of the majority element left over.\n",
    "In the end, if a majority element exists, it will be the last standing candidate after all cancelations."
   ]
  },
  {
   "cell_type": "code",
   "execution_count": null,
   "metadata": {},
   "outputs": [],
   "source": [
    "# you can write to stdout for debugging purposes, e.g.\n",
    "# print(\"this is a debug message\")\n",
    "\n",
    "def solution(A):\n",
    "    # Implement your solution here\n",
    "    if not A:  # Handle empty array\n",
    "        return -1\n",
    "    \n",
    "    N = len(A)\n",
    "    candidate = None\n",
    "    count = 0\n",
    "\n",
    "        # Step 1: Find a candidate using the Boyer-Moore Voting Algorithm\n",
    "    for element in A:\n",
    "        if count == 0:\n",
    "            candidate = element\n",
    "        count += 1 if element == candidate else -1\n",
    "    \n",
    "    # Step 2: Verify if the candidate is actually the dominator\n",
    "    if A.count(candidate) > N // 2:\n",
    "        return A.index(candidate)\n",
    "    \n",
    "    return -1\n",
    "\n",
    "\n",
    "    pass"
   ]
  }
 ],
 "metadata": {
  "kernelspec": {
   "display_name": "base",
   "language": "python",
   "name": "python3"
  },
  "language_info": {
   "codemirror_mode": {
    "name": "ipython",
    "version": 3
   },
   "file_extension": ".py",
   "mimetype": "text/x-python",
   "name": "python",
   "nbconvert_exporter": "python",
   "pygments_lexer": "ipython3",
   "version": "3.11.5"
  }
 },
 "nbformat": 4,
 "nbformat_minor": 2
}
