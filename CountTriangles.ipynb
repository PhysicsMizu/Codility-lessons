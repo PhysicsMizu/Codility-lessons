{
 "cells": [
  {
   "cell_type": "markdown",
   "metadata": {},
   "source": [
    "Task description\n",
    "An array A consisting of N integers is given. A triplet (P, Q, R) is triangular if it is possible to build a triangle with sides of lengths A[P], A[Q] and A[R]. In other words, triplet (P, Q, R) is triangular if 0 ≤ P < Q < R < N and:\n",
    "\n",
    "A[P] + A[Q] > A[R],\n",
    "A[Q] + A[R] > A[P],\n",
    "A[R] + A[P] > A[Q].\n",
    "For example, consider array A such that:\n",
    "\n",
    "  A[0] = 10    A[1] = 2    A[2] = 5\n",
    "  A[3] = 1     A[4] = 8    A[5] = 12\n",
    "There are four triangular triplets that can be constructed from elements of this array, namely (0, 2, 4), (0, 2, 5), (0, 4, 5), and (2, 4, 5).\n",
    "\n",
    "Write a function:\n",
    "\n",
    "def solution(A)\n",
    "\n",
    "that, given an array A consisting of N integers, returns the number of triangular triplets in this array.\n",
    "\n",
    "For example, given array A such that:\n",
    "\n",
    "  A[0] = 10    A[1] = 2    A[2] = 5\n",
    "  A[3] = 1     A[4] = 8    A[5] = 12\n",
    "the function should return 4, as explained above.\n",
    "\n",
    "Write an efficient algorithm for the following assumptions:\n",
    "\n",
    "N is an integer within the range [0..1,000];\n",
    "each element of array A is an integer within the range [1..1,000,000,000].\n"
   ]
  },
  {
   "cell_type": "code",
   "execution_count": 1,
   "metadata": {},
   "outputs": [],
   "source": [
    "def solution(A):\n",
    "    # Implement your solution here\n",
    "    n = len(A)\n",
    "    count = 0\n",
    "    \n",
    "    #CONDITIONS:\n",
    "    #0<=P < Q < R - therefore sort A before getting started\n",
    "    A = sorted(A)\n",
    "    #R is always the largest number in the triangle lengths, so loop R\n",
    "    for R in range(n):\n",
    "        #start with min possible P and max possible Q, that way counting will be nice and simple\n",
    "        P,Q = 0 , R-1\n",
    "        while P < Q:\n",
    "            if A[P] + A[Q] >A[R]:\n",
    "                # All pairs (P, Q), (P+1, Q), ..., (Q-1, Q) are valid\n",
    "                count += (Q- P)\n",
    "                Q -= 1  # Move Q left to explore smaller values of A[Q]\n",
    "            else: P +=1\n",
    "    \n",
    "    return count"
   ]
  },
  {
   "cell_type": "code",
   "execution_count": 2,
   "metadata": {},
   "outputs": [
    {
     "data": {
      "text/plain": [
       "4"
      ]
     },
     "execution_count": 2,
     "metadata": {},
     "output_type": "execute_result"
    }
   ],
   "source": [
    "A = [10, 2, 5, 1, 8, 12]\n",
    "solution(A)"
   ]
  },
  {
   "cell_type": "code",
   "execution_count": null,
   "metadata": {},
   "outputs": [],
   "source": []
  }
 ],
 "metadata": {
  "kernelspec": {
   "display_name": "base",
   "language": "python",
   "name": "python3"
  },
  "language_info": {
   "codemirror_mode": {
    "name": "ipython",
    "version": 3
   },
   "file_extension": ".py",
   "mimetype": "text/x-python",
   "name": "python",
   "nbconvert_exporter": "python",
   "pygments_lexer": "ipython3",
   "version": "3.11.5"
  }
 },
 "nbformat": 4,
 "nbformat_minor": 2
}
