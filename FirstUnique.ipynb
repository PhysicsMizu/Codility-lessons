{
 "cells": [
  {
   "cell_type": "markdown",
   "metadata": {},
   "source": [
    "Task description\n",
    "A non-empty array A consisting of N integers is given. The unique number is the number that occurs exactly once in array A.\n",
    "\n",
    "For example, the following array A:\n",
    "\n",
    "  A[0] = 4\n",
    "  A[1] = 10\n",
    "  A[2] = 5\n",
    "  A[3] = 4\n",
    "  A[4] = 2\n",
    "  A[5] = 10\n",
    "contains two unique numbers (5 and 2).\n",
    "\n",
    "You should find the first unique number in A. In other words, find the unique number with the lowest position in A.\n",
    "\n",
    "For above example, 5 is in second position (because A[2] = 5) and 2 is in fourth position (because A[4] = 2). So, the first unique number is 5.\n",
    "\n",
    "Write a function:\n",
    "\n",
    "def solution(A)\n",
    "\n",
    "that, given a non-empty array A of N integers, returns the first unique number in A. The function should return −1 if there are no unique numbers in A.\n",
    "\n",
    "For example, given:\n",
    "\n",
    "  A[0] = 1\n",
    "  A[1] = 4\n",
    "  A[2] = 3\n",
    "  A[3] = 3\n",
    "  A[4] = 1\n",
    "  A[5] = 2\n",
    "the function should return 4. There are two unique numbers (4 and 2 occur exactly once). The first one is 4 in position 1 and the second one is 2 in position 5. The function should return 4 bacause it is unique number with the lowest position.\n",
    "\n",
    "Given array A such that:\n",
    "\n",
    "  A[0] = 6\n",
    "  A[1] = 4\n",
    "  A[2] = 4\n",
    "  A[3] = 6\n",
    "the function should return −1. There is no unique number in A (4 and 6 occur more than once).\n",
    "\n",
    "Write an efficient algorithm for the following assumptions:\n",
    "\n",
    "N is an integer within the range [1..100,000];\n",
    "each element of array A is an integer within the range [0..1,000,000,000]."
   ]
  },
  {
   "cell_type": "code",
   "execution_count": 1,
   "metadata": {},
   "outputs": [],
   "source": [
    "# you can write to stdout for debugging purposes, e.g.\n",
    "# print(\"this is a debug message\")\n",
    "\n",
    "def solution(A):\n",
    "    # Implement your solution here\n",
    "    frequency = {}\n",
    "    \n",
    "    for element in A:\n",
    "        if element in frequency: frequency[element] += 1\n",
    "        else: frequency[element] = 1\n",
    "    for element in A:\n",
    "        if frequency[element] ==1: return element \n",
    "    \n",
    "    return -1"
   ]
  },
  {
   "cell_type": "markdown",
   "metadata": {},
   "source": [
    "$O(NlogN)$ Passed"
   ]
  }
 ],
 "metadata": {
  "kernelspec": {
   "display_name": "base",
   "language": "python",
   "name": "python3"
  },
  "language_info": {
   "codemirror_mode": {
    "name": "ipython",
    "version": 3
   },
   "file_extension": ".py",
   "mimetype": "text/x-python",
   "name": "python",
   "nbconvert_exporter": "python",
   "pygments_lexer": "ipython3",
   "version": "3.11.5"
  }
 },
 "nbformat": 4,
 "nbformat_minor": 2
}
