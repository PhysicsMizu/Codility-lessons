{
 "cells": [
  {
   "cell_type": "markdown",
   "metadata": {},
   "source": [
    "Task description\n",
    "A non-empty array A consisting of N integers is given.\n",
    "\n",
    "A triplet (X, Y, Z), such that 0 ≤ X < Y < Z < N, is called a double slice.\n",
    "\n",
    "The sum of double slice (X, Y, Z) is the total of A[X + 1] + A[X + 2] + ... + A[Y − 1] + A[Y + 1] + A[Y + 2] + ... + A[Z − 1].\n",
    "\n",
    "For example, array A such that:\n",
    "\n",
    "    A[0] = 3\n",
    "    A[1] = 2\n",
    "    A[2] = 6\n",
    "    A[3] = -1\n",
    "    A[4] = 4\n",
    "    A[5] = 5\n",
    "    A[6] = -1\n",
    "    A[7] = 2\n",
    "contains the following example double slices:\n",
    "\n",
    "double slice (0, 3, 6), sum is 2 + 6 + 4 + 5 = 17,\n",
    "double slice (0, 3, 7), sum is 2 + 6 + 4 + 5 − 1 = 16,\n",
    "double slice (3, 4, 5), sum is 0.\n",
    "The goal is to find the maximal sum of any double slice.\n",
    "\n",
    "Write a function:\n",
    "\n",
    "def solution(A)\n",
    "\n",
    "that, given a non-empty array A consisting of N integers, returns the maximal sum of any double slice.\n",
    "\n",
    "For example, given:\n",
    "\n",
    "    A[0] = 3\n",
    "    A[1] = 2\n",
    "    A[2] = 6\n",
    "    A[3] = -1\n",
    "    A[4] = 4\n",
    "    A[5] = 5\n",
    "    A[6] = -1\n",
    "    A[7] = 2\n",
    "the function should return 17, because no double slice of array A has a sum of greater than 17.\n",
    "\n",
    "Write an efficient algorithm for the following assumptions:\n",
    "\n",
    "N is an integer within the range [3..100,000];\n",
    "each element of array A is an integer within the range [−10,000..10,000]."
   ]
  },
  {
   "cell_type": "code",
   "execution_count": 1,
   "metadata": {},
   "outputs": [],
   "source": [
    "# you can write to stdout for debugging purposes, e.g.\n",
    "# print(\"this is a debug message\")\n",
    "\n",
    "def solution(A):\n",
    "    N = len(A)\n",
    "    \n",
    "    # Initialize two arrays to store the max slice sum ending at each point\n",
    "    max_left = [0] * N\n",
    "    max_right = [0] * N\n",
    "    \n",
    "    # Calculate max_left array (maximum sum of slices ending before index i)\n",
    "    for i in range(1, N-1):  # We ignore A[0] and A[N-1]\n",
    "        max_left[i] = max(0, max_left[i-1] + A[i])\n",
    "    \n",
    "    # Calculate max_right array (maximum sum of slices starting after index i)\n",
    "    for i in range(N-2, 0, -1):  # We ignore A[0] and A[N-1]\n",
    "        max_right[i] = max(0, max_right[i+1] + A[i])\n",
    "    \n",
    "    # Find the maximum sum of any double slice\n",
    "    max_double_slice = 0\n",
    "    for Y in range(1, N-1):  # Y is the middle point\n",
    "        max_double_slice = max(max_double_slice, max_left[Y-1] + max_right[Y+1])\n",
    "    \n",
    "    return max_double_slice"
   ]
  },
  {
   "cell_type": "markdown",
   "metadata": {},
   "source": [
    "Explanation:\n",
    "max_left calculation:\n",
    "We iterate from 1 to N-2. For each i, we calculate the maximum sum of a slice ending at i-1. We exclude A[i] itself since the double slice sum does not include A[Y]. max_left[i] = max(0, max_left[i-1] + A[i]) ensures that the sum cannot be negative.\n",
    "\n",
    "max_right calculation:\n",
    "We iterate from N-2 to 1. For each i, we calculate the maximum sum of a slice starting at i+1. max_right[i] = max(0, max_right[i+1] + A[i]).\n",
    "\n",
    "Final loop:\n",
    "For each Y (the middle point of the double slice), we calculate max_left[Y-1] + max_right[Y+1], and keep track of the maximum sum.\n",
    "\n",
    "Time Complexity:\n",
    "Time complexity: O(N) since we iterate over the array three times (once for max_left, once for max_right, and once to calculate the maximum double slice sum).\n",
    "Space complexity: O(N) because we use two additional arrays max_left and max_right.\n"
   ]
  },
  {
   "cell_type": "code",
   "execution_count": 2,
   "metadata": {},
   "outputs": [
    {
     "data": {
      "text/plain": [
       "17"
      ]
     },
     "execution_count": 2,
     "metadata": {},
     "output_type": "execute_result"
    }
   ],
   "source": [
    "A = [3, 2, 6, -1, 4, 5, -1, 2]\n",
    "solution(A)"
   ]
  },
  {
   "cell_type": "code",
   "execution_count": null,
   "metadata": {},
   "outputs": [],
   "source": []
  }
 ],
 "metadata": {
  "kernelspec": {
   "display_name": "base",
   "language": "python",
   "name": "python3"
  },
  "language_info": {
   "codemirror_mode": {
    "name": "ipython",
    "version": 3
   },
   "file_extension": ".py",
   "mimetype": "text/x-python",
   "name": "python",
   "nbconvert_exporter": "python",
   "pygments_lexer": "ipython3",
   "version": "3.11.5"
  }
 },
 "nbformat": 4,
 "nbformat_minor": 2
}
