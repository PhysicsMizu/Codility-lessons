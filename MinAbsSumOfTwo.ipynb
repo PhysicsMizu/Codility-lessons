{
 "cells": [
  {
   "cell_type": "markdown",
   "metadata": {},
   "source": [
    "Let A be a non-empty array consisting of N integers.\n",
    "\n",
    "The abs sum of two for a pair of indices (P, Q) is the absolute value |A[P] + A[Q]|, for 0 ≤ P ≤ Q < N.\n",
    "\n",
    "For example, the following array A:\n",
    "\n",
    "  A[0] =  1\n",
    "  A[1] =  4\n",
    "  A[2] = -3\n",
    "has pairs of indices (0, 0), (0, 1), (0, 2), (1, 1), (1, 2), (2, 2). \n",
    "\n",
    " The abs sum of two for the pair (0, 0) is A[0] + A[0] = |1 + 1| = 2. \n",
    "\n",
    " The abs sum of two for the pair (0, 1) is A[0] + A[1] = |1 + 4| = 5. \n",
    "\n",
    " The abs sum of two for the pair (0, 2) is A[0] + A[2] = |1 + (−3)| = 2. \n",
    "\n",
    " The abs sum of two for the pair (1, 1) is A[1] + A[1] = |4 + 4| = 8. \n",
    "\n",
    " The abs sum of two for the pair (1, 2) is A[1] + A[2] = |4 + (−3)| = 1. \n",
    "\n",
    " The abs sum of two for the pair (2, 2) is A[2] + A[2] = |(−3) + (−3)| = 6. \n",
    "\n",
    "\n",
    "Write a function:\n",
    "\n",
    "def solution(A)\n",
    "\n",
    "that, given a non-empty array A consisting of N integers, returns the minimal abs sum of two for any pair of indices in this array.\n",
    "\n",
    "For example, given the following array A:\n",
    "\n",
    "  A[0] =  1\n",
    "  A[1] =  4\n",
    "  A[2] = -3\n",
    "the function should return 1, as explained above.\n",
    "\n",
    "Given array A:\n",
    "\n",
    "  A[0] = -8\n",
    "  A[1] =  4\n",
    "  A[2] =  5\n",
    "  A[3] =-10\n",
    "  A[4] =  3\n",
    "the function should return |(−8) + 5| = 3.\n",
    "\n",
    "Write an efficient algorithm for the following assumptions:\n",
    "\n",
    "N is an integer within the range [1..100,000];\n",
    "each element of array A is an integer within the range [−1,000,000,000..1,000,000,000]."
   ]
  },
  {
   "cell_type": "code",
   "execution_count": 1,
   "metadata": {},
   "outputs": [],
   "source": [
    "\n",
    "# First attempt - inefficient O(N**2)\n",
    "\n",
    "def solution(A):\n",
    "    # Implement your solution here\n",
    "    N = len(A)\n",
    "    minimal_abssum = float('inf')\n",
    "    for Q in range(N):\n",
    "        P=0\n",
    "        while P <=Q:\n",
    "            absum = abs(A[P]+A[Q])\n",
    "            minimal_abssum = min(minimal_abssum, absum)\n",
    "            P+=1\n",
    "    return minimal_abssum\n"
   ]
  },
  {
   "cell_type": "code",
   "execution_count": 2,
   "metadata": {},
   "outputs": [
    {
     "data": {
      "text/plain": [
       "1"
      ]
     },
     "execution_count": 2,
     "metadata": {},
     "output_type": "execute_result"
    }
   ],
   "source": [
    "A = [1, 4, -3]\n",
    "solution(A)"
   ]
  },
  {
   "cell_type": "code",
   "execution_count": 1,
   "metadata": {},
   "outputs": [],
   "source": [
    "# final attempt: O(NlogN)\n",
    "\n",
    "def solution(A):\n",
    "    # Implement your solution here\n",
    "    A.sort()\n",
    "    N = len(A)\n",
    "    back, front = 0, N-1\n",
    "    minimal_absum = float('inf')\n",
    "\n",
    "    while back <=front:\n",
    "        absum = abs(A[back]+A[front])\n",
    "        minimal_absum = min(absum, minimal_absum)\n",
    "        \n",
    "        #if the NON-ABS sum is negative, move the back to the right to make for a less-negative sum\n",
    "        if A[back] + A[front] < 0: back +=1\n",
    "        else: front -=1 #shrink the search area to where smaller sums should be\n",
    "    \n",
    "    return int(minimal_absum)"
   ]
  }
 ],
 "metadata": {
  "kernelspec": {
   "display_name": "base",
   "language": "python",
   "name": "python3"
  },
  "language_info": {
   "codemirror_mode": {
    "name": "ipython",
    "version": 3
   },
   "file_extension": ".py",
   "mimetype": "text/x-python",
   "name": "python",
   "nbconvert_exporter": "python",
   "pygments_lexer": "ipython3",
   "version": "3.11.5"
  }
 },
 "nbformat": 4,
 "nbformat_minor": 2
}
